{
 "cells": [
  {
   "cell_type": "code",
   "execution_count": 30,
   "id": "c44a0964",
   "metadata": {},
   "outputs": [
    {
     "name": "stdout",
     "output_type": "stream",
     "text": [
      "B.Tech\n",
      "20\n",
      "20\n",
      "<class 'dict'>\n",
      "<built-in method keys of dict object at 0x760f3f256a00>\n"
     ]
    }
   ],
   "source": [
    "person = {\"name\":\"mjk\",\"age\":20,\"qualifications\":\"B.Tech\"}\n",
    "print(person[\"qualifications\"])\n",
    "print(person[\"age\"])\n",
    "print(person.get(\"age\"))\n",
    "print(type(person))\n",
    "x=person.keys\n",
    "print(x)"
   ]
  },
  {
   "cell_type": "code",
   "execution_count": 8,
   "id": "ceb7d71e",
   "metadata": {
    "scrolled": false
   },
   "outputs": [],
   "source": [
    "list1=[\"name\",\"age\",\"qualifications\"]\n",
    "list2=[\"mjk\",20,\"B.Sc\"]\n",
    "#dict(list1,list2)"
   ]
  },
  {
   "cell_type": "code",
   "execution_count": 22,
   "id": "b51cd2ab",
   "metadata": {},
   "outputs": [
    {
     "name": "stdout",
     "output_type": "stream",
     "text": [
      "{'name': 'ln', 'age': 100, 'qualifications': 'PhD'}\n"
     ]
    }
   ],
   "source": [
    "person2 = dict(name=\"ln\",age=100,qualifications=\"PhD\")\n",
    "print(person2)"
   ]
  },
  {
   "cell_type": "code",
   "execution_count": 23,
   "id": "0f0ca6e1",
   "metadata": {},
   "outputs": [
    {
     "data": {
      "text/html": [
       "<div>\n",
       "<style scoped>\n",
       "    .dataframe tbody tr th:only-of-type {\n",
       "        vertical-align: middle;\n",
       "    }\n",
       "\n",
       "    .dataframe tbody tr th {\n",
       "        vertical-align: top;\n",
       "    }\n",
       "\n",
       "    .dataframe thead th {\n",
       "        text-align: right;\n",
       "    }\n",
       "</style>\n",
       "<table border=\"1\" class=\"dataframe\">\n",
       "  <thead>\n",
       "    <tr style=\"text-align: right;\">\n",
       "      <th></th>\n",
       "      <th>0</th>\n",
       "    </tr>\n",
       "  </thead>\n",
       "  <tbody>\n",
       "    <tr>\n",
       "      <th>name</th>\n",
       "      <td>mjk</td>\n",
       "    </tr>\n",
       "    <tr>\n",
       "      <th>age</th>\n",
       "      <td>20</td>\n",
       "    </tr>\n",
       "    <tr>\n",
       "      <th>qualifications</th>\n",
       "      <td>B.Tech</td>\n",
       "    </tr>\n",
       "  </tbody>\n",
       "</table>\n",
       "</div>"
      ],
      "text/plain": [
       "                     0\n",
       "name               mjk\n",
       "age                 20\n",
       "qualifications  B.Tech"
      ]
     },
     "execution_count": 23,
     "metadata": {},
     "output_type": "execute_result"
    }
   ],
   "source": [
    "import pandas as pd\n",
    "X=pd.Series(person)\n",
    "Y=pd.Series(person2)\n",
    "#print(X)\n",
    "D = pd.DataFrame(X)\n",
    "D"
   ]
  },
  {
   "cell_type": "code",
   "execution_count": null,
   "id": "0204b74e",
   "metadata": {},
   "outputs": [],
   "source": []
  }
 ],
 "metadata": {
  "kernelspec": {
   "display_name": "Python 3 (ipykernel)",
   "language": "python",
   "name": "python3"
  },
  "language_info": {
   "codemirror_mode": {
    "name": "ipython",
    "version": 3
   },
   "file_extension": ".py",
   "mimetype": "text/x-python",
   "name": "python",
   "nbconvert_exporter": "python",
   "pygments_lexer": "ipython3",
   "version": "3.11.5"
  }
 },
 "nbformat": 4,
 "nbformat_minor": 5
}
