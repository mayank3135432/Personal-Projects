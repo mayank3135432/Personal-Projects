{
 "cells": [
  {
   "cell_type": "code",
   "execution_count": 17,
   "id": "55e78dac-dd92-4875-8422-e14fa2ea00d3",
   "metadata": {
    "scrolled": true
   },
   "outputs": [
    {
     "name": "stdout",
     "output_type": "stream",
     "text": [
      "0.0242\n"
     ]
    }
   ],
   "source": [
    "# Variables have dynamic type\n",
    "# integer\n",
    "an_int = 99559766754456546378954782930567895042935647893045678905999999999999999999999999999999\n",
    "# int are dec by default\n",
    "bin_int = 0b101101 # 42\n",
    "oct_int = 0o36174 # 15484\n",
    "hex_int = 0x182AEB12 # 405465874\n",
    "\n",
    "# floating point value\n",
    "an_float = 342.12603\n",
    "# scientific notation\n",
    "sci_float = 1.73e3 #1730.0\n",
    "another_float = 24.2e-3 # 0.0242\n",
    "\n",
    "print(another_float)\n"
   ]
  },
  {
   "cell_type": "code",
   "execution_count": 10,
   "id": "736052ef-1d67-473e-b879-d5f66d248a0b",
   "metadata": {},
   "outputs": [
    {
     "name": "stdout",
     "output_type": "stream",
     "text": [
      "<class 'list'>\n"
     ]
    }
   ],
   "source": [
    "list1 = [3.1,6.4,-7.01,3]\n",
    "print(type(list1))"
   ]
  },
  {
   "cell_type": "code",
   "execution_count": 18,
   "id": "5cf53612-b483-4d23-9d54-ccf569c71222",
   "metadata": {},
   "outputs": [
    {
     "ename": "SyntaxError",
     "evalue": "invalid syntax (3922925995.py, line 4)",
     "output_type": "error",
     "traceback": [
      "\u001b[0;36m  Cell \u001b[0;32mIn[18], line 4\u001b[0;36m\u001b[0m\n\u001b[0;31m    qw = 0b1011101001.110\u001b[0m\n\u001b[0m                     ^\u001b[0m\n\u001b[0;31mSyntaxError\u001b[0m\u001b[0;31m:\u001b[0m invalid syntax\n"
     ]
    }
   ],
   "source": [
    "a = 0xFB\n",
    "print(a)"
   ]
  },
  {
   "cell_type": "code",
   "execution_count": 22,
   "id": "174ce494-5b3f-4c03-838a-8dd1ed31febf",
   "metadata": {},
   "outputs": [
    {
     "data": {
      "text/plain": [
       "6"
      ]
     },
     "execution_count": 22,
     "metadata": {},
     "output_type": "execute_result"
    }
   ],
   "source": [
    "def func1(x,y):\n",
    "    return x*y\n",
    "foo = lambda x : lambda y : x*y\n",
    "\n",
    "def func(x):\n",
    "    def gunc(y):\n",
    "        return x+y\n",
    "    return gunc\n",
    "\n",
    "foo(3)(2)"
   ]
  }
 ],
 "metadata": {
  "kernelspec": {
   "display_name": "Python 3 (ipykernel)",
   "language": "python",
   "name": "python3"
  },
  "language_info": {
   "codemirror_mode": {
    "name": "ipython",
    "version": 3
   },
   "file_extension": ".py",
   "mimetype": "text/x-python",
   "name": "python",
   "nbconvert_exporter": "python",
   "pygments_lexer": "ipython3",
   "version": "3.11.6"
  }
 },
 "nbformat": 4,
 "nbformat_minor": 5
}
