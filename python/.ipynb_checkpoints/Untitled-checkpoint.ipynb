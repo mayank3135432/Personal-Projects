{
 "cells": [
  {
   "cell_type": "code",
   "execution_count": 7,
   "id": "55e78dac-dd92-4875-8422-e14fa2ea00d3",
   "metadata": {},
   "outputs": [
    {
     "name": "stdout",
     "output_type": "stream",
     "text": [
      "405465874\n"
     ]
    }
   ],
   "source": [
    "# Variables have dynamic type\n",
    "# integer\n",
    "an_int = 99559766754456546378954782930567895042935647893045678905999999999999999999999999999999\n",
    "# int are dec by default\n",
    "bin_int = 0b101101 # 42\n",
    "oct_int = 0o36174 # 15484\n",
    "hex_int = 0x182AEB12 # 405465874\n",
    "print(hex_int)\n"
   ]
  }
 ],
 "metadata": {
  "kernelspec": {
   "display_name": "Python 3 (ipykernel)",
   "language": "python",
   "name": "python3"
  },
  "language_info": {
   "codemirror_mode": {
    "name": "ipython",
    "version": 3
   },
   "file_extension": ".py",
   "mimetype": "text/x-python",
   "name": "python",
   "nbconvert_exporter": "python",
   "pygments_lexer": "ipython3",
   "version": "3.11.6"
  }
 },
 "nbformat": 4,
 "nbformat_minor": 5
}
