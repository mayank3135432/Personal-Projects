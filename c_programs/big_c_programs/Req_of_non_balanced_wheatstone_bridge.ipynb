{
 "cells": [
  {
   "cell_type": "code",
   "execution_count": 4,
   "metadata": {},
   "outputs": [
    {
     "name": "stdout",
     "output_type": "stream",
     "text": [
      "46.82323232323232\n",
      "47.32323232323232\n"
     ]
    },
    {
     "data": {
      "text/plain": [
       "146.82323232323233"
      ]
     },
     "execution_count": 4,
     "metadata": {},
     "output_type": "execute_result"
    }
   ],
   "source": [
    "import numpy as np\n",
    "def Reff(R1,R2,R3,R4,R5):\n",
    "    Req=(R3*R1)/(R1+R2+R5)+(R1*R5/(R1+R3+R5)+R2)*(R3*R5/(R1+R3+R5)+R4)/((R1*R5/(R1+R3+R5)+R2)+(R3*R5/(R1+R3+R5)+R4))\n",
    "    return(Req)\n",
    "r1,r2,r3,r4=30,40,60,50\n",
    "r5=10\n",
    "print(Reff(r1,r2,r3,r4,r5))\n",
    "print(Reff(r2,r1,r4,r3,r5))\n",
    "\n",
    "Reff(r1,r2,r3,r4,r5)+100"
   ]
  }
 ],
 "metadata": {
  "kernelspec": {
   "display_name": "Python 3",
   "language": "python",
   "name": "python3"
  },
  "language_info": {
   "codemirror_mode": {
    "name": "ipython",
    "version": 3
   },
   "file_extension": ".py",
   "mimetype": "text/x-python",
   "name": "python",
   "nbconvert_exporter": "python",
   "pygments_lexer": "ipython3",
   "version": "3.6.2"
  },
  "orig_nbformat": 4,
  "vscode": {
   "interpreter": {
    "hash": "32f6eab7de1d3b7dcfe999868102387a72f0ad5f4730fb41a19d0e0342b334e4"
   }
  }
 },
 "nbformat": 4,
 "nbformat_minor": 2
}
