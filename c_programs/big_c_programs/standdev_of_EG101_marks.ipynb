{
 "cells": [
  {
   "cell_type": "code",
   "execution_count": 1,
   "metadata": {},
   "outputs": [
    {
     "name": "stdout",
     "output_type": "stream",
     "text": [
      "Standard Deviation of sample is  14.469252134448652\n"
     ]
    }
   ],
   "source": [
    "observation = [56.8,66,64.8,67.8,51.5,58.5,63.5,58,60.5,40,66,62,55,48,27.5,49.5,64.3,75.3,70.8,33.5,51.5,75,56,73.3,66.8,61.5,\n",
    "        59.3,5.5,71.8,55.5,51.5,83,69.5,44.5,65.5,76,45,75,76,66,69.8,29,63,68.5,64.5,63,46.3,57.5,61.5,63.3,66.3,66.5,75.5,\n",
    "        75,70.5,49.5,10.5,52,74,54.5,56.5,71.5,47.5,68.8,65,50.5,32,50,62.8,54.5,48.5,48.5]\n",
    "sum=0\n",
    "for i in range(len(observation)):\n",
    "    sum+=observation[i]\n",
    "mean_of_observations = sum/len(observation)\n",
    "sum_of_squared_deviation = 0\n",
    "for i in range(len(observation)):\n",
    "    sum_of_squared_deviation+=(observation[i]- mean_of_observations)**2\n",
    "Standard_Deviation = ((sum_of_squared_deviation)/len(observation))**0.5\n",
    "print(\"Standard Deviation of sample is \",Standard_Deviation)"
   ]
  }
 ],
 "metadata": {
  "kernelspec": {
   "display_name": "Python 3",
   "language": "python",
   "name": "python3"
  },
  "language_info": {
   "codemirror_mode": {
    "name": "ipython",
    "version": 3
   },
   "file_extension": ".py",
   "mimetype": "text/x-python",
   "name": "python",
   "nbconvert_exporter": "python",
   "pygments_lexer": "ipython3",
   "version": "3.6.2"
  },
  "orig_nbformat": 4,
  "vscode": {
   "interpreter": {
    "hash": "32f6eab7de1d3b7dcfe999868102387a72f0ad5f4730fb41a19d0e0342b334e4"
   }
  }
 },
 "nbformat": 4,
 "nbformat_minor": 2
}
