{
 "cells": [
  {
   "cell_type": "code",
   "execution_count": 1,
   "metadata": {},
   "outputs": [
    {
     "name": "stdout",
     "output_type": "stream",
     "text": [
      "Hi welcome to munnunator , please enter your answers and know if you are validated by moi\n",
      "what is your favourite dish out of these\n",
      "1.)Biryani\n",
      "2.)semya\n"
     ]
    }
   ],
   "source": [
    "print('Hi welcome to munnunator , please enter your answers and know if you are validated by moi')\n",
    "print('what is your favourite dish out of these')\n",
    "print('1.)Biryani')\n",
    "print('2.)semya')\n",
    "a = int (input('enter either 1 or 2'))\n",
    "print('what is the political orientation you lean towards out of these')\n",
    "print('1.)Right')\n",
    "print('2.)Left')\n",
    "b = int (input('enter either 1 or 2'))\n",
    "print('What would you rather do')\n",
    "print('1.)Watch a tollywood movie')\n",
    "print('2.)Watch a scifi movie')\n",
    "c = int (input('enter either 1 or 2'))\n",
    "print('What do you call your sibling')\n",
    "print('1.)koko or your own word')\n",
    "print('2.)call them by their kinship title eg:akka , sister , didi etc')\n",
    "d = int (input('enter either 1 or 2'))\n",
    "print('What do you think of history and politics')\n",
    "print('1.)Interesting!')\n",
    "print('2.)Boooring')\n",
    "e = int (input('enter either 1 or 2'))\n",
    "if (a==1 and b==2 and c==2 and d==1 and e==1):\n",
    "    print (\"Congratulations you've passed munnonator's test with flying colours\")\n",
    "else:\n",
    "    print(\"oh noe , better luck ne- never! heheheh\")\n",
    " \n"
   ]
  },
  {
   "cell_type": "code",
   "execution_count": null,
   "metadata": {},
   "outputs": [],
   "source": []
  }
 ],
 "metadata": {
  "kernelspec": {
   "display_name": "Python 3",
   "language": "python",
   "name": "python3"
  },
  "language_info": {
   "codemirror_mode": {
    "name": "ipython",
    "version": 3
   },
   "file_extension": ".py",
   "mimetype": "text/x-python",
   "name": "python",
   "nbconvert_exporter": "python",
   "pygments_lexer": "ipython3",
   "version": "3.6.2"
  },
  "orig_nbformat": 4,
  "vscode": {
   "interpreter": {
    "hash": "32f6eab7de1d3b7dcfe999868102387a72f0ad5f4730fb41a19d0e0342b334e4"
   }
  }
 },
 "nbformat": 4,
 "nbformat_minor": 2
}
